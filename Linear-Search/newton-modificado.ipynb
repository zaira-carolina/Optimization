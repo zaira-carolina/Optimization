{
 "cells": [
  {
   "cell_type": "code",
   "execution_count": 1,
   "id": "9c818f50",
   "metadata": {},
   "outputs": [],
   "source": [
    "import numpy as np\n",
    "import matplotlib.pyplot as plt\n",
    "\n",
    "def grad(x,function, h):\n",
    "    n = len(x)\n",
    "    fprime = np.zeros(n)\n",
    "    for i in range(n):\n",
    "        x_aux = np.copy(x)\n",
    "        x_aux[i] = x[i]+h\n",
    "        delante = function(x)\n",
    "        x_aux[i] = x[i]-2*h\n",
    "        atras = function(x_aux)\n",
    "        fprime[i] = (delante-atras)/(2*h)\n",
    "    return fprime\n",
    "\n",
    "def hessian(x, function, h):\n",
    "    n = len(x)\n",
    "    hessian = np.zeros([n, n])\n",
    "    x_aux = np.copy(x)\n",
    "    \n",
    "    for i in range(n):\n",
    "        for j in range(n):\n",
    "            x[i] = x[i]+h \n",
    "            x[j] = x[j]+h\n",
    "            d = function(x)\n",
    "            x[j] = x[j]-2*h\n",
    "            a = function(x)\n",
    "            #regresar al valor de x original\n",
    "            x = np.copy(x_aux)\n",
    "\n",
    "            x[i] = x[i]-h \n",
    "            x[j] = x[j]+h\n",
    "            dd = function(x)\n",
    "            x[j] = x[j]-2*h\n",
    "            aa = function(x)\n",
    "            #regresar al original\n",
    "            x = np.copy(x_aux)\n",
    "            \n",
    "            #llenar matriz\n",
    "            hessian[i][j] = (d-a-dd+aa)/(4*h*h)\n",
    "\n",
    "    return hessian\n",
    "\n",
    "def rosenbrock(x):\n",
    "    n = len(x)\n",
    "    suma = 0\n",
    "    for i in range(n-1):\n",
    "        suma += 100*(x[i+1]-x[i]**2)**2+(1-x[i])**2\n",
    "    return suma\n",
    "\n",
    "def wood(x):\n",
    "    return sum((\n",
    "        100*(x[0]*x[0] - x[1])**2,\n",
    "        (x[0]-1)**2,\n",
    "        (x[2]-1)**2,\n",
    "        90*(x[2]*x[2] - x[3])**2,\n",
    "        10.1*((x[1]-1)**2 + (x[3]-1)**2),\n",
    "        19.8*(x[1]-1)*(x[3]-1),\n",
    "        ))\n",
    "\n",
    "def branin(x):\n",
    "    a = 1.0\n",
    "    b = 5.1 / (4*np.pi**2)\n",
    "    c = 5.0 / (np.pi)\n",
    "    r = 6.0\n",
    "    s = 10.0\n",
    "    t = 1.0 / (8*np.pi)\n",
    "    \n",
    "    return a*(x[1]-b*x[0]**2+c*x[0]-r)**2+s*(1-t)*np.cos(x[0])+s"
   ]
  },
  {
   "cell_type": "code",
   "execution_count": 3,
   "id": "3b43b657",
   "metadata": {},
   "outputs": [],
   "source": [
    "def newton_modificado(x_k, tol, zeta, step_size, max_iter):\n",
    "    n = len(x_k)\n",
    "    for i in range(max_iter):\n",
    "        f_k = rosen(x_k)\n",
    "        g = rosen_der(x_k)\n",
    "        B = rosen_hess(x_k)\n",
    "\n",
    "        norm_grad = np.linalg.norm(g)\n",
    "        #print(norm_grad)\n",
    "        if (norm_grad < tol):\n",
    "            break\n",
    "        else:\n",
    "            hessian_inv = np.linalg.inv(B + np.multiply(zeta, np.identity(n)))\n",
    "            p = -np.dot(g, hessian_inv)\n",
    "            x_k += step_size*p\n",
    "    return x_k"
   ]
  },
  {
   "cell_type": "markdown",
   "id": "5ab6b61e",
   "metadata": {},
   "source": [
    "## Función Rosenbrock"
   ]
  },
  {
   "cell_type": "code",
   "execution_count": 7,
   "id": "506ade34",
   "metadata": {
    "scrolled": true
   },
   "outputs": [
    {
     "name": "stdout",
     "output_type": "stream",
     "text": [
      "0\n",
      "1\n",
      "2\n",
      "3\n",
      "4\n",
      "5\n",
      "6\n",
      "7\n",
      "8\n",
      "9\n",
      "10\n",
      "11\n",
      "12\n",
      "13\n",
      "14\n",
      "15\n",
      "16\n",
      "17\n",
      "18\n",
      "19\n",
      "20\n",
      "21\n",
      "22\n",
      "23\n",
      "24\n",
      "25\n",
      "26\n",
      "27\n",
      "28\n",
      "29\n"
     ]
    }
   ],
   "source": [
    "from scipy.optimize import rosen, rosen_der, rosen_hess\n",
    "n = 100\n",
    "max_iter = 1000\n",
    "tol = 0.001\n",
    "zeta = 0.1\n",
    "step_size = 1.0\n",
    "res = np.ones(n)\n",
    "mean = np.zeros(n)\n",
    "\n",
    "for i in range(30):\n",
    "    print(i)\n",
    "    x_k = np.ones(n) + np.random.uniform(-2, 2, n)\n",
    "    x = newton_modificado(x_k, tol, zeta, step_size, max_iter)\n",
    "    mean[i] = (x[0]-res).mean()"
   ]
  },
  {
   "cell_type": "code",
   "execution_count": 9,
   "id": "a89621d2",
   "metadata": {},
   "outputs": [
    {
     "data": {
      "text/plain": [
       "-0.05196671565340059"
      ]
     },
     "execution_count": 9,
     "metadata": {},
     "output_type": "execute_result"
    }
   ],
   "source": [
    "mean.mean()"
   ]
  },
  {
   "cell_type": "markdown",
   "id": "ec8a8699",
   "metadata": {},
   "source": [
    "## Función Wood"
   ]
  },
  {
   "cell_type": "code",
   "execution_count": 10,
   "id": "05115d0c",
   "metadata": {},
   "outputs": [],
   "source": [
    "def newton_modificado(funcion, x_k, h, tol, zeta, step_size, max_iter):\n",
    "    n = len(x_k)\n",
    "    for i in range(max_iter):\n",
    "        f_k = funcion(x_k)\n",
    "        g = grad(x_k, funcion, h)\n",
    "        B = hessian(x_k, funcion, h)\n",
    "\n",
    "        norm_grad = np.linalg.norm(g)\n",
    "        #print(norm_grad)\n",
    "        if (norm_grad < tol):\n",
    "            break\n",
    "        else:\n",
    "            hessian_inv = np.linalg.inv(B + np.multiply(zeta, np.identity(n)))\n",
    "            p = -np.dot(g, hessian_inv)\n",
    "            x_k += step_size*p\n",
    "    return x_k"
   ]
  },
  {
   "cell_type": "code",
   "execution_count": 16,
   "id": "aa8ebcb0",
   "metadata": {
    "scrolled": true
   },
   "outputs": [
    {
     "name": "stdout",
     "output_type": "stream",
     "text": [
      "0\n",
      "1\n",
      "2\n",
      "3\n",
      "4\n",
      "5\n",
      "6\n",
      "7\n",
      "8\n",
      "9\n",
      "10\n",
      "11\n",
      "12\n",
      "13\n",
      "14\n",
      "15\n",
      "16\n",
      "17\n",
      "18\n",
      "19\n",
      "20\n",
      "21\n",
      "22\n",
      "23\n",
      "24\n",
      "25\n",
      "26\n",
      "27\n",
      "28\n",
      "29\n"
     ]
    }
   ],
   "source": [
    "n = 4\n",
    "x_k = np.ones(n) + np.random.uniform(-2, 2, n)\n",
    "max_iter = 1000\n",
    "alpha = 0.02\n",
    "delta = 2\n",
    "eta = 0.1\n",
    "tol = 0.01\n",
    "h = 0.000001\n",
    "res = np.ones(n)\n",
    "mean = np.zeros(30)\n",
    "zeta = 0.1\n",
    "\n",
    "for i in range(30):\n",
    "    print(i)\n",
    "    x_k = np.ones(n) + np.random.uniform(-2, 2, n)\n",
    "    x = newton_modificado(wood, x_k, h, tol, zeta, step_size, max_iter)\n",
    "    mean[i] = (x[0]-res).mean()"
   ]
  },
  {
   "cell_type": "code",
   "execution_count": 18,
   "id": "cdb31c32",
   "metadata": {},
   "outputs": [
    {
     "data": {
      "text/plain": [
       "0.00011211353994878825"
      ]
     },
     "execution_count": 18,
     "metadata": {},
     "output_type": "execute_result"
    }
   ],
   "source": [
    "mean.mean()"
   ]
  },
  {
   "cell_type": "code",
   "execution_count": 31,
   "id": "5d125c55",
   "metadata": {
    "scrolled": true
   },
   "outputs": [
    {
     "name": "stdout",
     "output_type": "stream",
     "text": [
      "0\n",
      "1\n",
      "2\n",
      "3\n",
      "4\n",
      "5\n",
      "6\n",
      "7\n",
      "8\n",
      "9\n",
      "10\n",
      "11\n",
      "12\n",
      "13\n",
      "14\n",
      "15\n",
      "16\n",
      "17\n",
      "18\n",
      "19\n",
      "20\n",
      "21\n",
      "22\n",
      "23\n",
      "24\n",
      "25\n",
      "26\n",
      "27\n",
      "28\n",
      "29\n"
     ]
    }
   ],
   "source": [
    "n = 2\n",
    "x_k = np.zeros(n)\n",
    "x_k[0] = np.pi + np.random.uniform(-2, 2)\n",
    "x_k[1] = 2.275 + np.random.uniform(-2, 2)\n",
    "\n",
    "max_iter = 10000\n",
    "alpha = 0.02\n",
    "delta = 2\n",
    "eta = 0.1\n",
    "tol = 0.01\n",
    "h = 0.000001\n",
    "res = np.zeros(n)\n",
    "res[0] = np.pi\n",
    "res[1] = 2.275\n",
    "zeta = 0.1\n",
    "\n",
    "mean = np.zeros(30)\n",
    "\n",
    "for i in range(30):\n",
    "    print(i)\n",
    "    x_k = np.zeros(n)\n",
    "    x_k[0] = np.pi + np.random.uniform(-2, 2)\n",
    "    x_k[1] = 2.275 + np.random.uniform(-2, 2)\n",
    "    \n",
    "    x = newton_modificado(branin, x_k, h, tol, zeta, step_size, max_iter)\n",
    "    mean[i] = (x[0]-res).mean()"
   ]
  },
  {
   "cell_type": "code",
   "execution_count": 32,
   "id": "c817ebe2",
   "metadata": {},
   "outputs": [
    {
     "data": {
      "text/plain": [
       "-0.7181942833958891"
      ]
     },
     "execution_count": 32,
     "metadata": {},
     "output_type": "execute_result"
    }
   ],
   "source": [
    "mean.mean()"
   ]
  }
 ],
 "metadata": {
  "kernelspec": {
   "display_name": "Python 3 (ipykernel)",
   "language": "python",
   "name": "python3"
  },
  "language_info": {
   "codemirror_mode": {
    "name": "ipython",
    "version": 3
   },
   "file_extension": ".py",
   "mimetype": "text/x-python",
   "name": "python",
   "nbconvert_exporter": "python",
   "pygments_lexer": "ipython3",
   "version": "3.9.7"
  }
 },
 "nbformat": 4,
 "nbformat_minor": 5
}
