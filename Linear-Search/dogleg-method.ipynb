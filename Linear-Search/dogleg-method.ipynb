{
 "cells": [
  {
   "cell_type": "code",
   "execution_count": 52,
   "id": "87fcc212",
   "metadata": {},
   "outputs": [],
   "source": [
    "import numpy as np\n",
    "import matplotlib.pyplot as plt\n",
    "\n",
    "def grad(x,function, h):\n",
    "    n = len(x)\n",
    "    fprime = np.zeros(n)\n",
    "    for i in range(n):\n",
    "        x_aux = np.copy(x)\n",
    "        x_aux[i] = x[i]+h\n",
    "        delante = function(x)\n",
    "        x_aux[i] = x[i]-2*h\n",
    "        atras = function(x_aux)\n",
    "        fprime[i] = (delante-atras)/(2*h)\n",
    "    return fprime\n",
    "\n",
    "def hessian(x, function, h):\n",
    "    n = len(x)\n",
    "    hessian = np.zeros([n, n])\n",
    "    x_aux = np.copy(x)\n",
    "    \n",
    "    for i in range(n):\n",
    "        for j in range(n):\n",
    "            x[i] = x[i]+h \n",
    "            x[j] = x[j]+h\n",
    "            d = function(x)\n",
    "            x[j] = x[j]-2*h\n",
    "            a = function(x)\n",
    "            #regresar al valor de x original\n",
    "            x = np.copy(x_aux)\n",
    "\n",
    "            x[i] = x[i]-h \n",
    "            x[j] = x[j]+h\n",
    "            dd = function(x)\n",
    "            x[j] = x[j]-2*h\n",
    "            aa = function(x)\n",
    "            #regresar al original\n",
    "            x = np.copy(x_aux)\n",
    "            \n",
    "            #llenar matriz\n",
    "            hessian[i][j] = (d-a-dd+aa)/(4*h*h)\n",
    "\n",
    "    return hessian\n",
    "\n",
    "def rosenbrock(x):\n",
    "    n = len(x)\n",
    "    suma = 0\n",
    "    for i in range(n-1):\n",
    "        suma += 100*(x[i+1]-x[i]**2)**2+(1-x[i])**2\n",
    "    return suma\n",
    "\n",
    "def wood(x):\n",
    "    return sum((\n",
    "        100*(x[0]*x[0] - x[1])**2,\n",
    "        (x[0]-1)**2,\n",
    "        (x[2]-1)**2,\n",
    "        90*(x[2]*x[2] - x[3])**2,\n",
    "        10.1*((x[1]-1)**2 + (x[3]-1)**2),\n",
    "        19.8*(x[1]-1)*(x[3]-1),\n",
    "        ))\n",
    "\n",
    "def branin(x):\n",
    "    a = 1.0\n",
    "    b = 5.1 / (4*np.pi**2)\n",
    "    c = 5.0 / (np.pi)\n",
    "    r = 6.0\n",
    "    s = 10.0\n",
    "    t = 1.0 / (8*np.pi)\n",
    "    \n",
    "    return a*(x[1]-b*x[0]**2+c*x[0]-r)**2+s*(1-t)*np.cos(x[0])+s"
   ]
  },
  {
   "cell_type": "code",
   "execution_count": 3,
   "id": "bfd0ae37",
   "metadata": {},
   "outputs": [],
   "source": [
    "def dogleg_method(funcion, x_k, h, alpha, delta, eta, tol, max_iter):\n",
    "    for i in range(max_iter):\n",
    "        f_k = funcion(x_k)\n",
    "        g = rosen_der(x_k)#grad(x_k, funcion, h)\n",
    "        B = rosen_hess(x_k)#hessian(x_k, funcion, h)    \n",
    "\n",
    "        '''1) Minimizar a lo largo del gradiente'''\n",
    "        semi_pos_cond = np.dot(np.dot(g.T, B), g)\n",
    "        pU = -(np.dot(g.T, g))*g/(semi_pos_cond)\n",
    "        pB = -np.dot(np.linalg.inv(B), g)\n",
    "        '''2) Minimizar si el hessiano es semidefinido positivo'''\n",
    "        norm_grad = np.linalg.norm(g)\n",
    "        #print(\"norma grad: \", norm_grad)\n",
    "        if (semi_pos_cond > 0):\n",
    "            #print(\"si\")\n",
    "            a = np.linalg.norm(pB-pU)**2\n",
    "            b = 2*np.dot((pB.T),(pB-pU))\n",
    "            c = np.linalg.norm(pU)**2-delta**2\n",
    "            coeffs = [a, b, c]\n",
    "            roots = np.roots(coeffs)\n",
    "            \n",
    "            tau1 = roots[0]+1\n",
    "            tau2 = roots[1]+1\n",
    "            \n",
    "            #print(tau1, tau2)\n",
    "            if (0 <= tau1 <= 2):\n",
    "                if (0 <= tau2 <= 2):\n",
    "                    tau = min(tau1, tau2)\n",
    "            elif (0 <= tau2 <= 2):\n",
    "                tau = tau2\n",
    "            #else:\n",
    "            #    tau = 1.0\n",
    "            \n",
    "            \n",
    "            if (tau <= 1):\n",
    "                p_k = tau*pU\n",
    "            else:\n",
    "                p_k = pU+(tau-1)*(pB-pU)\n",
    "            \n",
    "            \n",
    "            rho_num = rosen(x_k)-rosen(x_k+p_k)\n",
    "            rho_den = -np.dot(g.T, p_k)-(0.5)*np.dot(np.dot(p_k.T,B), p_k)\n",
    "            \n",
    "            rho = rho_num / rho_den\n",
    "            #print(rho)\n",
    "            '''3) Calcular el tamano de paso'''\n",
    "            if (rho > eta):\n",
    "                #print(\"si eta\")\n",
    "                x_k += p_k\n",
    "            delta = np.sqrt(np.linalg.norm(pU+(tau-1)*(pB-pU))**2)\n",
    "            if (norm_grad < tol):\n",
    "                break\n",
    "    return x_k\n",
    "        #minimizar el modelo cuadraticon sin restricciones a lo largo del gradiente"
   ]
  },
  {
   "cell_type": "markdown",
   "id": "33805ceb",
   "metadata": {},
   "source": [
    "## Rosenbrock function n = 100"
   ]
  },
  {
   "cell_type": "code",
   "execution_count": 6,
   "id": "e835186a",
   "metadata": {
    "scrolled": true
   },
   "outputs": [
    {
     "name": "stdout",
     "output_type": "stream",
     "text": [
      "0\n",
      "1\n",
      "2\n",
      "3\n",
      "4\n",
      "5\n",
      "6\n",
      "7\n",
      "8\n",
      "9\n",
      "10\n",
      "11\n",
      "12\n",
      "13\n",
      "14\n",
      "15\n",
      "16\n",
      "17\n",
      "18\n",
      "19\n",
      "20\n",
      "21\n",
      "22\n",
      "23\n",
      "24\n",
      "25\n",
      "26\n",
      "27\n",
      "28\n",
      "29\n"
     ]
    }
   ],
   "source": [
    "from scipy.optimize import rosen, rosen_der, rosen_hess\n",
    "#Condiciones \n",
    "n = 100\n",
    "x_k = np.ones(n) + np.random.uniform(-2, 2, n)\n",
    "max_iter = 5000\n",
    "alpha = 0.02\n",
    "delta = 2\n",
    "eta = 0.1\n",
    "tol = 0.01\n",
    "h = 0.000001\n",
    "res = np.ones(n)\n",
    "mean = np.zeros(30)\n",
    "\n",
    "for i in range(30):\n",
    "    print(i)\n",
    "    x_k = np.ones(n) + np.random.uniform(-2, 2, n)\n",
    "    x = dogleg_method(rosen, x_k, h, alpha, delta, eta, tol, max_iter)\n",
    "    mean[i] = (x[0]-res).mean()"
   ]
  },
  {
   "cell_type": "code",
   "execution_count": 8,
   "id": "c13a4545",
   "metadata": {},
   "outputs": [
    {
     "data": {
      "text/plain": [
       "-0.30956923475680004"
      ]
     },
     "execution_count": 8,
     "metadata": {},
     "output_type": "execute_result"
    }
   ],
   "source": [
    "mean.mean()"
   ]
  },
  {
   "cell_type": "markdown",
   "id": "34ee3fa0",
   "metadata": {},
   "source": [
    "## Wood function"
   ]
  },
  {
   "cell_type": "code",
   "execution_count": 36,
   "id": "3bcb0b1c",
   "metadata": {},
   "outputs": [],
   "source": [
    "def dogleg_method(funcion, h, x_k, alpha, delta, eta, tol, max_iter):\n",
    "    n = len(x_k)\n",
    "    for i in range(max_iter):\n",
    "        f_k = funcion(x_k)\n",
    "        g = grad(x_k, funcion, h)\n",
    "        B = hessian(x_k, funcion, h)    \n",
    "\n",
    "        '''1) Minimizar a lo largo del gradiente'''\n",
    "        semi_pos_cond = np.dot(np.dot(g.T, B), g)\n",
    "        #print(\"cond: \", semi_pos_cond)\n",
    "        pU = -(np.dot(g.T, g))*g/(semi_pos_cond)\n",
    "        pB = -np.dot(np.linalg.inv(B), g)\n",
    "        '''2) Minimizar si el hessiano es semidefinido positivo'''\n",
    "        norm_grad = np.linalg.norm(g)\n",
    "        #print(\"norma grad: \", norm_grad)\n",
    "        if (semi_pos_cond > 0):\n",
    "            #print(\"si\")\n",
    "            a = np.linalg.norm(pB-pU)**2\n",
    "            b = 2*np.dot((pB.T),(pB-pU))\n",
    "            c = np.linalg.norm(pU)**2-delta**2\n",
    "            coeffs = [a, b, c]\n",
    "            roots = np.roots(coeffs)\n",
    "            \n",
    "            tau1 = roots[0]+1\n",
    "            tau2 = roots[1]+1\n",
    "            \n",
    "            #print(tau1, tau2)\n",
    "            if (0 <= tau1 <= 2):\n",
    "                if (0 <= tau2 <= 2):\n",
    "                    tau = min(tau1, tau2)\n",
    "            elif (0 <= tau2 <= 2):\n",
    "                tau = tau2\n",
    "            else:\n",
    "                tau = 1.0\n",
    "            \n",
    "            \n",
    "            if (tau <= 1):\n",
    "                p_k = tau*pU\n",
    "            else:\n",
    "                p_k = pU+(tau-1)*(pB-pU)\n",
    "            \n",
    "            \n",
    "            rho_num = funcion(x_k)-funcion(x_k+p_k)\n",
    "            rho_den = -np.dot(g.T, p_k)-(0.5)*np.dot(np.dot(p_k.T,B), p_k)\n",
    "            \n",
    "            rho = rho_num / rho_den\n",
    "            #print(rho)\n",
    "            '''3) Calcular el tamano de paso'''\n",
    "            if (rho > eta):\n",
    "                #print(\"si eta\")\n",
    "                x_k += p_k\n",
    "            delta = np.sqrt(np.linalg.norm(pU+(tau-1)*(pB-pU))**2)\n",
    "            if (norm_grad < tol):\n",
    "                break\n",
    "    return x_k\n",
    "        #minimizar el modelo cuadraticon sin restricciones a lo largo del gradiente"
   ]
  },
  {
   "cell_type": "code",
   "execution_count": 37,
   "id": "eabbf293",
   "metadata": {},
   "outputs": [],
   "source": [
    "n = 4\n",
    "x_k = np.ones(n) + np.random.uniform(-2, 2, n)\n",
    "max_iter = 100\n",
    "alpha = 0.02\n",
    "delta = 2\n",
    "eta = 0.1\n",
    "tol = 0.01\n",
    "h = 0.000001\n",
    "res = np.ones(n)\n",
    "mean = np.zeros(30)\n",
    "\n",
    "for i in range(30):\n",
    "    x_k = np.ones(n) + np.random.uniform(-2, 2, n)\n",
    "    x = dogleg_method(wood, h, x_k, alpha, delta, eta, tol, max_iter)\n",
    "    mean[i] = (x[0]-res).mean()"
   ]
  },
  {
   "cell_type": "code",
   "execution_count": 39,
   "id": "768ee359",
   "metadata": {},
   "outputs": [
    {
     "data": {
      "text/plain": [
       "-0.44862995359514657"
      ]
     },
     "execution_count": 39,
     "metadata": {},
     "output_type": "execute_result"
    }
   ],
   "source": [
    "mean.mean()"
   ]
  },
  {
   "cell_type": "markdown",
   "id": "58bfa483",
   "metadata": {},
   "source": [
    "## Función Branin"
   ]
  },
  {
   "cell_type": "code",
   "execution_count": 60,
   "id": "bc980303",
   "metadata": {},
   "outputs": [
    {
     "name": "stdout",
     "output_type": "stream",
     "text": [
      "0\n",
      "1\n",
      "2\n",
      "3\n",
      "4\n",
      "5\n",
      "6\n",
      "7\n",
      "8\n",
      "9\n",
      "10\n",
      "11\n",
      "12\n",
      "13\n",
      "14\n",
      "15\n",
      "16\n",
      "17\n",
      "18\n",
      "19\n",
      "20\n",
      "21\n",
      "22\n",
      "23\n",
      "24\n",
      "25\n",
      "26\n",
      "27\n",
      "28\n",
      "29\n"
     ]
    }
   ],
   "source": [
    "n = 2\n",
    "x_k = np.zeros(n)\n",
    "x_k[0] = np.pi + np.random.uniform(-2, 2)\n",
    "x_k[1] = 2.275 + np.random.uniform(-2, 2)\n",
    "\n",
    "max_iter = 1000\n",
    "alpha = 0.02\n",
    "delta = 2\n",
    "eta = 0.1\n",
    "tol = 0.01\n",
    "h = 0.000001\n",
    "res = np.zeros(n)\n",
    "res[0] = np.pi\n",
    "res[1] = 2.275\n",
    "\n",
    "mean = np.zeros(30)\n",
    "\n",
    "for i in range(30):\n",
    "    print(i)\n",
    "    x_k = np.zeros(n)\n",
    "    x_k[0] = np.pi + np.random.uniform(-2, 2)\n",
    "    x_k[1] = 2.275 + np.random.uniform(-2, 2)\n",
    "    \n",
    "    x = dogleg_method(branin, h, x_k, alpha, delta, eta, tol, max_iter)\n",
    "    mean[i] = (x[0]-res).mean()"
   ]
  },
  {
   "cell_type": "code",
   "execution_count": 63,
   "id": "0f9f9b13",
   "metadata": {},
   "outputs": [
    {
     "data": {
      "text/plain": [
       "0.7012817599789134"
      ]
     },
     "execution_count": 63,
     "metadata": {},
     "output_type": "execute_result"
    }
   ],
   "source": [
    "mean.mean()"
   ]
  }
 ],
 "metadata": {
  "kernelspec": {
   "display_name": "Python 3 (ipykernel)",
   "language": "python",
   "name": "python3"
  },
  "language_info": {
   "codemirror_mode": {
    "name": "ipython",
    "version": 3
   },
   "file_extension": ".py",
   "mimetype": "text/x-python",
   "name": "python",
   "nbconvert_exporter": "python",
   "pygments_lexer": "ipython3",
   "version": "3.9.7"
  }
 },
 "nbformat": 4,
 "nbformat_minor": 5
}
