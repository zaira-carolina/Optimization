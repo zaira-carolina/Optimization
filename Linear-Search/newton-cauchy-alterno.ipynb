{
 "cells": [
  {
   "cell_type": "code",
   "execution_count": 1,
   "id": "a312e300",
   "metadata": {},
   "outputs": [],
   "source": [
    "import numpy as np\n",
    "import matplotlib.pyplot as plt\n",
    "\n",
    "def grad(x,function, h):\n",
    "    n = len(x)\n",
    "    fprime = np.zeros(n)\n",
    "    for i in range(n):\n",
    "        x_aux = np.copy(x)\n",
    "        x_aux[i] = x[i]+h\n",
    "        delante = function(x)\n",
    "        x_aux[i] = x[i]-2*h\n",
    "        atras = function(x_aux)\n",
    "        fprime[i] = (delante-atras)/(2*h)\n",
    "    return fprime\n",
    "\n",
    "def hessian(x, function, h):\n",
    "    n = len(x)\n",
    "    hessian = np.zeros([n, n])\n",
    "    x_aux = np.copy(x)\n",
    "    \n",
    "    for i in range(n):\n",
    "        for j in range(n):\n",
    "            x[i] = x[i]+h \n",
    "            x[j] = x[j]+h\n",
    "            d = function(x)\n",
    "            x[j] = x[j]-2*h\n",
    "            a = function(x)\n",
    "            #regresar al valor de x original\n",
    "            x = np.copy(x_aux)\n",
    "\n",
    "            x[i] = x[i]-h \n",
    "            x[j] = x[j]+h\n",
    "            dd = function(x)\n",
    "            x[j] = x[j]-2*h\n",
    "            aa = function(x)\n",
    "            #regresar al original\n",
    "            x = np.copy(x_aux)\n",
    "            \n",
    "            #llenar matriz\n",
    "            hessian[i][j] = (d-a-dd+aa)/(4*h*h)\n",
    "\n",
    "    return hessian\n",
    "\n",
    "def rosenbrock(x):\n",
    "    n = len(x)\n",
    "    suma = 0\n",
    "    for i in range(n-1):\n",
    "        suma += 100*(x[i+1]-x[i]**2)**2+(1-x[i])**2\n",
    "    return suma\n",
    "\n",
    "def wood(x):\n",
    "    return sum((\n",
    "        100*(x[0]*x[0] - x[1])**2,\n",
    "        (x[0]-1)**2,\n",
    "        (x[2]-1)**2,\n",
    "        90*(x[2]*x[2] - x[3])**2,\n",
    "        10.1*((x[1]-1)**2 + (x[3]-1)**2),\n",
    "        19.8*(x[1]-1)*(x[3]-1),\n",
    "        ))\n",
    "\n",
    "def branin(x):\n",
    "    a = 1.0\n",
    "    b = 5.1 / (4*np.pi**2)\n",
    "    c = 5.0 / (np.pi)\n",
    "    r = 6.0\n",
    "    s = 10.0\n",
    "    t = 1.0 / (8*np.pi)\n",
    "    \n",
    "    return a*(x[1]-b*x[0]**2+c*x[0]-r)**2+s*(1-t)*np.cos(x[0])+s"
   ]
  },
  {
   "cell_type": "code",
   "execution_count": 2,
   "id": "6e5560b4",
   "metadata": {},
   "outputs": [],
   "source": [
    "def cauchy_newton_trust_region(x_k, funcion, delta, eta, max_delta, max_iter):\n",
    "    for i in range(max_iter):\n",
    "        f_k = funcion(x_k)\n",
    "        g = rosen_der(x_k)\n",
    "        norm_grad = np.linalg.norm(g)\n",
    "        #print(norm_grad)\n",
    "        B = rosen_hess(x_k)\n",
    "\n",
    "        #calcular p_k\n",
    "        semi_pos_cond = np.dot(np.dot(g.T, B), g)\n",
    "        norm_semi_pos_cond = np.linalg.norm(semi_pos_cond)\n",
    "        #cauchy\n",
    "        if (norm_semi_pos_cond <= 0):\n",
    "            tau = 1.0\n",
    "        else: \n",
    "            tau = min(1, norm_grad**3/(delta*semi_pos_cond))\n",
    "        pk = -1.0*(tau*delta/norm_grad)*g\n",
    "\n",
    "        rho_num = funcion(x_k)-funcion(x_k+pk)\n",
    "        rho_dev = -np.dot(g.T, pk)-(0.5)*np.dot(np.dot(pk.T, B), pk)\n",
    "        rho = rho_num / rho_dev\n",
    "\n",
    "        if (rho < 0.25):\n",
    "            delta *= 0.25\n",
    "        else:\n",
    "            if (rho > 0.75 and np.linalg.norm(pk) == delta):\n",
    "                delta = min(2*delta, max_delta)\n",
    "        if (rho > eta):\n",
    "            x_k += pk\n",
    "    return x_k"
   ]
  },
  {
   "cell_type": "markdown",
   "id": "d4cb0af3",
   "metadata": {},
   "source": [
    "## Rosenbrock function n = 100"
   ]
  },
  {
   "cell_type": "code",
   "execution_count": 4,
   "id": "8bc23f0a",
   "metadata": {
    "scrolled": true
   },
   "outputs": [
    {
     "name": "stdout",
     "output_type": "stream",
     "text": [
      "0\n",
      "1\n",
      "2\n",
      "3\n",
      "4\n",
      "5\n",
      "6\n",
      "7\n",
      "8\n",
      "9\n",
      "10\n",
      "11\n",
      "12\n",
      "13\n",
      "14\n",
      "15\n",
      "16\n",
      "17\n",
      "18\n",
      "19\n",
      "20\n",
      "21\n",
      "22\n",
      "23\n",
      "24\n",
      "25\n",
      "26\n",
      "27\n",
      "28\n",
      "29\n"
     ]
    }
   ],
   "source": [
    "'''Algoritmo 2):\n",
    "Toma el paso de Newton si esta en la region de confianza, \n",
    "en otro caso, toma el paso de Cauchy'''\n",
    "from scipy.optimize import rosen, rosen_der, rosen_hess\n",
    "n = 100\n",
    "x_k = np.ones(n) + np.random.uniform(-2, 2, n)\n",
    "delta = 0.1\n",
    "max_iter = 5000\n",
    "eta = 0.2\n",
    "max_delta = 1.0\n",
    "res = np.ones(n)\n",
    "mean = np.zeros(n)\n",
    "\n",
    "for i in range(30):\n",
    "    print(i)\n",
    "    x_k = np.ones(n) + np.random.uniform(-2, 2, n)\n",
    "    x = cauchy_newton_trust_region(x_k, rosen, delta, eta, max_delta, max_iter)\n",
    "    mean[i] = (x[0]-res).mean()"
   ]
  },
  {
   "cell_type": "code",
   "execution_count": 6,
   "id": "f3dd1617",
   "metadata": {},
   "outputs": [
    {
     "data": {
      "text/plain": [
       "-0.09966415958038675"
      ]
     },
     "execution_count": 6,
     "metadata": {},
     "output_type": "execute_result"
    }
   ],
   "source": [
    "mean.mean()"
   ]
  },
  {
   "cell_type": "markdown",
   "id": "25e22206",
   "metadata": {},
   "source": [
    "## Funcion wood"
   ]
  },
  {
   "cell_type": "code",
   "execution_count": 7,
   "id": "944f7d99",
   "metadata": {},
   "outputs": [],
   "source": [
    "def cauchy_newton_trust_region(x_k, h, funcion, delta, eta, max_delta, max_iter):\n",
    "    for i in range(max_iter):\n",
    "        f_k = funcion(x_k)\n",
    "        g = grad(x_k, funcion, h)\n",
    "        norm_grad = np.linalg.norm(g)\n",
    "        #print(norm_grad)\n",
    "        B = hessian(x_k, funcion, h)\n",
    "\n",
    "        #calcular p_k\n",
    "        semi_pos_cond = np.dot(np.dot(g.T, B), g)\n",
    "        norm_semi_pos_cond = np.linalg.norm(semi_pos_cond)\n",
    "        #cauchy\n",
    "        if (norm_semi_pos_cond <= 0):\n",
    "            tau = 1.0\n",
    "        else: \n",
    "            tau = min(1, norm_grad**3/(delta*semi_pos_cond))\n",
    "        pk = -1.0*(tau*delta/norm_grad)*g\n",
    "\n",
    "        rho_num = funcion(x_k)-funcion(x_k+pk)\n",
    "        rho_dev = -np.dot(g.T, pk)-(0.5)*np.dot(np.dot(pk.T, B), pk)\n",
    "        rho = rho_num / rho_dev\n",
    "\n",
    "        if (rho < 0.25):\n",
    "            delta *= 0.25\n",
    "        else:\n",
    "            if (rho > 0.75 and np.linalg.norm(pk) == delta):\n",
    "                delta = min(2*delta, max_delta)\n",
    "        if (rho > eta):\n",
    "            x_k += pk\n",
    "    return x_k"
   ]
  },
  {
   "cell_type": "code",
   "execution_count": 12,
   "id": "968c091b",
   "metadata": {
    "scrolled": true
   },
   "outputs": [
    {
     "name": "stdout",
     "output_type": "stream",
     "text": [
      "0\n",
      "1\n",
      "2\n",
      "3\n",
      "4\n",
      "5\n",
      "6\n",
      "7\n",
      "8\n",
      "9\n",
      "10\n",
      "11\n",
      "12\n",
      "13\n",
      "14\n",
      "15\n",
      "16\n",
      "17\n",
      "18\n",
      "19\n",
      "20\n",
      "21\n",
      "22\n",
      "23\n",
      "24\n",
      "25\n",
      "26\n",
      "27\n",
      "28\n",
      "29\n"
     ]
    }
   ],
   "source": [
    "n = 4\n",
    "x_k = np.ones(n) + np.random.uniform(-2, 2, n)\n",
    "max_iter = 1000\n",
    "alpha = 0.02\n",
    "delta = 2\n",
    "eta = 0.1\n",
    "tol = 0.01\n",
    "h = 0.000001\n",
    "res = np.ones(n)\n",
    "mean = np.zeros(30)\n",
    "\n",
    "for i in range(30):\n",
    "    print(i)\n",
    "    x_k = np.ones(n) + np.random.uniform(-2, 2, n)\n",
    "    x = cauchy_newton_trust_region(x_k, h, wood, delta, eta, max_delta, max_iter)\n",
    "    mean[i] = (x[0]-res).mean()"
   ]
  },
  {
   "cell_type": "code",
   "execution_count": 14,
   "id": "525d345e",
   "metadata": {},
   "outputs": [
    {
     "data": {
      "text/plain": [
       "0.003911148317874173"
      ]
     },
     "execution_count": 14,
     "metadata": {},
     "output_type": "execute_result"
    }
   ],
   "source": [
    "mean.mean()"
   ]
  },
  {
   "cell_type": "markdown",
   "id": "fa59e19d",
   "metadata": {},
   "source": [
    "## Funcion Branin"
   ]
  },
  {
   "cell_type": "code",
   "execution_count": 38,
   "id": "33b56413",
   "metadata": {
    "scrolled": true
   },
   "outputs": [
    {
     "name": "stdout",
     "output_type": "stream",
     "text": [
      "0\n"
     ]
    },
    {
     "name": "stderr",
     "output_type": "stream",
     "text": [
      "C:\\Users\\zaira\\AppData\\Local\\Temp/ipykernel_8992/4151619687.py:16: RuntimeWarning: divide by zero encountered in double_scalars\n",
      "  tau = min(1, norm_grad**3/(delta*semi_pos_cond))\n",
      "C:\\Users\\zaira\\AppData\\Local\\Temp/ipykernel_8992/4151619687.py:21: RuntimeWarning: invalid value encountered in double_scalars\n",
      "  rho = rho_num / rho_dev\n"
     ]
    },
    {
     "name": "stdout",
     "output_type": "stream",
     "text": [
      "1\n",
      "2\n",
      "3\n"
     ]
    },
    {
     "name": "stderr",
     "output_type": "stream",
     "text": [
      "C:\\Users\\zaira\\AppData\\Local\\Temp/ipykernel_8992/4151619687.py:16: RuntimeWarning: overflow encountered in double_scalars\n",
      "  tau = min(1, norm_grad**3/(delta*semi_pos_cond))\n",
      "C:\\Users\\zaira\\AppData\\Local\\Temp/ipykernel_8992/2396031115.py:69: RuntimeWarning: invalid value encountered in double_scalars\n",
      "  return a*(x[1]-b*x[0]**2+c*x[0]-r)**2+s*(1-t)*np.cos(x[0])+s\n",
      "C:\\Users\\zaira\\AppData\\Local\\Temp/ipykernel_8992/2396031115.py:69: RuntimeWarning: invalid value encountered in cos\n",
      "  return a*(x[1]-b*x[0]**2+c*x[0]-r)**2+s*(1-t)*np.cos(x[0])+s\n"
     ]
    },
    {
     "name": "stdout",
     "output_type": "stream",
     "text": [
      "4\n",
      "5\n",
      "6\n",
      "7\n",
      "8\n",
      "9\n",
      "10\n",
      "11\n",
      "12\n",
      "13\n",
      "14\n",
      "15\n",
      "16\n"
     ]
    },
    {
     "name": "stderr",
     "output_type": "stream",
     "text": [
      "C:\\Users\\zaira\\AppData\\Local\\Temp/ipykernel_8992/4151619687.py:17: RuntimeWarning: divide by zero encountered in double_scalars\n",
      "  pk = -1.0*(tau*delta/norm_grad)*g\n",
      "C:\\Users\\zaira\\AppData\\Local\\Temp/ipykernel_8992/4151619687.py:17: RuntimeWarning: invalid value encountered in multiply\n",
      "  pk = -1.0*(tau*delta/norm_grad)*g\n"
     ]
    },
    {
     "name": "stdout",
     "output_type": "stream",
     "text": [
      "17\n",
      "18\n",
      "19\n",
      "20\n",
      "21\n",
      "22\n",
      "23\n",
      "24\n",
      "25\n",
      "26\n",
      "27\n",
      "28\n",
      "29\n"
     ]
    }
   ],
   "source": [
    "n = 2\n",
    "x_k = np.zeros(n)\n",
    "x_k[0] = np.pi + np.random.uniform(-2, 2)\n",
    "x_k[1] = 2.275 + np.random.uniform(-2, 2)\n",
    "\n",
    "max_iter = 10000\n",
    "alpha = 0.02\n",
    "delta = 2\n",
    "eta = 0.1\n",
    "tol = 0.01\n",
    "h = 0.000001\n",
    "res = np.zeros(n)\n",
    "res[0] = np.pi\n",
    "res[1] = 2.275\n",
    "\n",
    "mean = np.zeros(30)\n",
    "\n",
    "for i in range(30):\n",
    "    print(i)\n",
    "    x_k = np.zeros(n)\n",
    "    x_k[0] = np.pi + np.random.uniform(-2, 2)\n",
    "    x_k[1] = 2.275 + np.random.uniform(-2, 2)\n",
    "    \n",
    "    x = cauchy_newton_trust_region(x_k, h, branin, delta, eta, max_delta, max_iter)\n",
    "    mean[i] = (x[0]-res).mean()"
   ]
  },
  {
   "cell_type": "code",
   "execution_count": 40,
   "id": "e8715e83",
   "metadata": {},
   "outputs": [
    {
     "data": {
      "text/plain": [
       "0.6184705340106799"
      ]
     },
     "execution_count": 40,
     "metadata": {},
     "output_type": "execute_result"
    }
   ],
   "source": [
    "mean.mean()"
   ]
  }
 ],
 "metadata": {
  "kernelspec": {
   "display_name": "Python 3 (ipykernel)",
   "language": "python",
   "name": "python3"
  },
  "language_info": {
   "codemirror_mode": {
    "name": "ipython",
    "version": 3
   },
   "file_extension": ".py",
   "mimetype": "text/x-python",
   "name": "python",
   "nbconvert_exporter": "python",
   "pygments_lexer": "ipython3",
   "version": "3.9.7"
  }
 },
 "nbformat": 4,
 "nbformat_minor": 5
}
