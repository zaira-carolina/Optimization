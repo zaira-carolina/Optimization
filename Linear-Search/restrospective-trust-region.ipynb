{
 "cells": [
  {
   "cell_type": "code",
   "execution_count": 1,
   "id": "a3dd79db",
   "metadata": {},
   "outputs": [],
   "source": [
    "import numpy as np\n",
    "import matplotlib.pyplot as plt\n",
    "\n",
    "def grad(x,function, h):\n",
    "    n = len(x)\n",
    "    fprime = np.zeros(n)\n",
    "    for i in range(n):\n",
    "        x_aux = np.copy(x)\n",
    "        x_aux[i] = x[i]+h\n",
    "        delante = function(x)\n",
    "        x_aux[i] = x[i]-2*h\n",
    "        atras = function(x_aux)\n",
    "        fprime[i] = (delante-atras)/(2*h)\n",
    "    return fprime\n",
    "\n",
    "def hessian(x, function, h):\n",
    "    n = len(x)\n",
    "    hessian = np.zeros([n, n])\n",
    "    x_aux = np.copy(x)\n",
    "    \n",
    "    for i in range(n):\n",
    "        for j in range(n):\n",
    "            x[i] = x[i]+h \n",
    "            x[j] = x[j]+h\n",
    "            d = function(x)\n",
    "            x[j] = x[j]-2*h\n",
    "            a = function(x)\n",
    "            #regresar al valor de x original\n",
    "            x = np.copy(x_aux)\n",
    "\n",
    "            x[i] = x[i]-h \n",
    "            x[j] = x[j]+h\n",
    "            dd = function(x)\n",
    "            x[j] = x[j]-2*h\n",
    "            aa = function(x)\n",
    "            #regresar al original\n",
    "            x = np.copy(x_aux)\n",
    "            \n",
    "            #llenar matriz\n",
    "            hessian[i][j] = (d-a-dd+aa)/(4*h*h)\n",
    "\n",
    "    return hessian\n",
    "\n",
    "def rosenbrock(x):\n",
    "    n = len(x)\n",
    "    suma = 0\n",
    "    for i in range(n-1):\n",
    "        suma += 100*(x[i+1]-x[i]**2)**2+(1-x[i])**2\n",
    "    return suma\n",
    "\n",
    "def wood(x):\n",
    "    return sum((\n",
    "        100*(x[0]*x[0] - x[1])**2,\n",
    "        (x[0]-1)**2,\n",
    "        (x[2]-1)**2,\n",
    "        90*(x[2]*x[2] - x[3])**2,\n",
    "        10.1*((x[1]-1)**2 + (x[3]-1)**2),\n",
    "        19.8*(x[1]-1)*(x[3]-1),\n",
    "        ))\n",
    "\n",
    "def branin(x):\n",
    "    a = 1.0\n",
    "    b = 5.1 / (4*np.pi**2)\n",
    "    c = 5.0 / (np.pi)\n",
    "    r = 6.0\n",
    "    s = 10.0\n",
    "    t = 1.0 / (8*np.pi)\n",
    "    \n",
    "    return a*(x[1]-b*x[0]**2+c*x[0]-r)**2+s*(1-t)*np.cos(x[0])+s"
   ]
  },
  {
   "cell_type": "code",
   "execution_count": 4,
   "id": "8c1958c6",
   "metadata": {},
   "outputs": [],
   "source": [
    "def rtr(x_k, max_iter, F):\n",
    "    #para la primer iteracion\n",
    "    #constantes del articulo\n",
    "    n = len(x_k)\n",
    "    gamma1 = 0.25\n",
    "    gamma3 = 3.5\n",
    "    eta1 = 0.0001\n",
    "    eta2 = 0.99\n",
    "    delta = 1.0\n",
    "    eta = 0.1\n",
    "    gamma_g = min(0.001, 1/(2*np.sqrt(n)))\n",
    "    x_mas = np.zeros(n)\n",
    "    \n",
    "    f_k = rosen(x_k)\n",
    "    g = rosen_der(x_k)\n",
    "    norm_grad = np.linalg.norm(g)\n",
    "    B = rosen_hess(x_k)\n",
    "\n",
    "    #calcular p_k\n",
    "    p_k = -1.0*(delta/norm_grad)*g\n",
    "    x_mas = x_k + p_k\n",
    "    grad_x_mas = rosen_der(x_mas)\n",
    "\n",
    "    rho_num = rosen(x_k)-rosen(x_mas)\n",
    "    rho_dev = -np.dot(g.T, x_mas)-(0.5)*np.dot(np.dot(x_mas.T, B), x_mas)\n",
    "    rho = rho_num / rho_dev\n",
    "\n",
    "    if (rho >= eta1):\n",
    "            x_k = x_mas\n",
    "    elif (rho < eta1 and np.linalg.norm(grad_x_mas) <= F):\n",
    "            x_k = x_mas\n",
    "            F = np.linalg.norm(grad_x_mas)\n",
    "\n",
    "    for i in range(1, max_iter):\n",
    "        f_k = rosen(x_k)\n",
    "        g = rosen_der(x_k)\n",
    "        norm_grad = np.linalg.norm(g)\n",
    "        #print(norm_grad)\n",
    "        B = rosen_hess(x_k)\n",
    "\n",
    "        #calcular p_k\n",
    "        p_k = -1.0*(delta/norm_grad)*g\n",
    "\n",
    "        rho_num = rosen(p_k)-rosen(x_k)\n",
    "        rho_dev = -np.dot(g.T, p_k)-(0.5)*np.dot(np.dot(p_k.T, B), p_k)\n",
    "        rho = rho_num / rho_dev\n",
    "\n",
    "        if (rho < eta1):\n",
    "            delta *= gamma1\n",
    "        elif (eta1 <= rho <= eta2):\n",
    "            delta *= gamma2\n",
    "        else: \n",
    "            delta *= gamma3\n",
    "\n",
    "        x_mas = x_k + p_k\n",
    "        grad_x_mas = rosen_der(x_mas)\n",
    "\n",
    "        rho_num = rosen(x_k)-rosen(x_mas)\n",
    "        rho_dev = -np.dot(g.T, x_mas)-(0.5)*np.dot(np.dot(x_mas.T, B), x_mas)\n",
    "        rho = rho_num / rho_dev\n",
    "\n",
    "        if (rho >= eta1):\n",
    "            x_k = x_mas\n",
    "        elif (rho < eta1 and np.linalg.norm(grad_x_mas) <= F):\n",
    "            x_k = x_mas\n",
    "            F = np.linalg.norm(grad_x_mas)\n",
    "    return x_k"
   ]
  },
  {
   "cell_type": "markdown",
   "id": "61262366",
   "metadata": {},
   "source": [
    "## Función Rosenbrock"
   ]
  },
  {
   "cell_type": "code",
   "execution_count": 5,
   "id": "740e2821",
   "metadata": {
    "scrolled": true
   },
   "outputs": [
    {
     "name": "stdout",
     "output_type": "stream",
     "text": [
      "0\n"
     ]
    },
    {
     "name": "stderr",
     "output_type": "stream",
     "text": [
      "C:\\Users\\zaira\\AppData\\Local\\Temp/ipykernel_10800/990706688.py:46: RuntimeWarning: overflow encountered in double_scalars\n",
      "  rho = rho_num / rho_dev\n",
      "C:\\Users\\zaira\\AppData\\Local\\Temp/ipykernel_10800/990706688.py:46: RuntimeWarning: divide by zero encountered in double_scalars\n",
      "  rho = rho_num / rho_dev\n"
     ]
    },
    {
     "name": "stdout",
     "output_type": "stream",
     "text": [
      "1\n",
      "2\n",
      "3\n",
      "4\n",
      "5\n",
      "6\n",
      "7\n",
      "8\n",
      "9\n",
      "10\n",
      "11\n",
      "12\n",
      "13\n",
      "14\n",
      "15\n",
      "16\n",
      "17\n",
      "18\n",
      "19\n",
      "20\n",
      "21\n",
      "22\n",
      "23\n",
      "24\n",
      "25\n",
      "26\n",
      "27\n",
      "28\n",
      "29\n"
     ]
    }
   ],
   "source": [
    "from scipy.optimize import rosen, rosen_der, rosen_hess\n",
    "import numpy as np\n",
    "#Condiciones \n",
    "n = 100\n",
    "x_k = np.ones(n) + np.random.uniform(-2, 2, n)\n",
    "max_iter = 5000\n",
    "alpha = 0.02\n",
    "delta = 2\n",
    "eta = 0.1\n",
    "tol = 0.01\n",
    "h = 0.000001\n",
    "res = np.ones(n)\n",
    "mean = np.zeros(30)\n",
    "F = 10000\n",
    "\n",
    "for i in range(30):\n",
    "    print(i)\n",
    "    x_k = np.ones(n) + np.random.uniform(-2, 2, n)\n",
    "    x = rtr(x_k, max_iter, F)\n",
    "    mean[i] = (x[0]-res).mean()"
   ]
  },
  {
   "cell_type": "code",
   "execution_count": 6,
   "id": "60d5aaac",
   "metadata": {},
   "outputs": [
    {
     "data": {
      "text/plain": [
       "-0.03020481094425844"
      ]
     },
     "execution_count": 6,
     "metadata": {},
     "output_type": "execute_result"
    }
   ],
   "source": [
    "mean.mean()"
   ]
  },
  {
   "cell_type": "markdown",
   "id": "8a44108c",
   "metadata": {},
   "source": [
    "## Función Wood"
   ]
  },
  {
   "cell_type": "code",
   "execution_count": 7,
   "id": "5d955082",
   "metadata": {},
   "outputs": [],
   "source": [
    "def rtr(x_k, funcion, h, max_iter, F):\n",
    "    #para la primer iteracion\n",
    "    #constantes del articulo\n",
    "    n = len(x_k)\n",
    "    gamma1 = 0.25\n",
    "    gamma2 = 0.2\n",
    "    gamma3 = 3.5\n",
    "    eta1 = 0.0001\n",
    "    eta2 = 0.99\n",
    "    delta = 1.0\n",
    "    eta = 0.1\n",
    "    gamma_g = min(0.001, 1/(2*np.sqrt(n)))\n",
    "    x_mas = np.zeros(n)\n",
    "    \n",
    "    f_k = funcion(x_k)\n",
    "    g = grad(x_k, funcion, h)\n",
    "    norm_grad = np.linalg.norm(g)\n",
    "    B = hessian(x_k, funcion, h)\n",
    "\n",
    "    #calcular p_k\n",
    "    p_k = -1.0*(delta/norm_grad)*g\n",
    "    x_mas = x_k + p_k\n",
    "    grad_x_mas = grad(x_mas, funcion, h)\n",
    "\n",
    "    rho_num = funcion(x_k)-funcion(x_mas)\n",
    "    rho_dev = -np.dot(g.T, x_mas)-(0.5)*np.dot(np.dot(x_mas.T, B), x_mas)\n",
    "    rho = rho_num / rho_dev\n",
    "\n",
    "    if (rho >= eta1):\n",
    "            x_k = x_mas\n",
    "    elif (rho < eta1 and np.linalg.norm(grad_x_mas) <= F):\n",
    "            x_k = x_mas\n",
    "            F = np.linalg.norm(grad_x_mas)\n",
    "\n",
    "    for i in range(1, max_iter):\n",
    "        f_k = funcion(x_k)\n",
    "        g = grad(x_k, funcion, h)\n",
    "        norm_grad = np.linalg.norm(g)\n",
    "        #print(norm_grad)\n",
    "        B = hessian(x_k, funcion, h)\n",
    "\n",
    "        #calcular p_k\n",
    "        p_k = -1.0*(delta/norm_grad)*g\n",
    "\n",
    "        rho_num = funcion(p_k)-funcion(x_k)\n",
    "        rho_dev = -np.dot(g.T, p_k)-(0.5)*np.dot(np.dot(p_k.T, B), p_k)\n",
    "        rho = rho_num / rho_dev\n",
    "\n",
    "        if (rho < eta1):\n",
    "            delta *= gamma1\n",
    "        elif (eta1 <= rho <= eta2):\n",
    "            delta *= gamma2\n",
    "        else: \n",
    "            delta *= gamma3\n",
    "\n",
    "        x_mas = x_k + p_k\n",
    "        grad_x_mas = grad(x_mas, funcion, h)\n",
    "\n",
    "        rho_num = funcion(x_k)-funcion(x_mas)\n",
    "        rho_dev = -np.dot(g.T, x_mas)-(0.5)*np.dot(np.dot(x_mas.T, B), x_mas)\n",
    "        rho = rho_num / rho_dev\n",
    "        #print(rho, np.linalg.norm(grad_x_mas), F, eta1)\n",
    "        if (rho >= eta1):\n",
    "            x_k = x_mas\n",
    "        elif (rho < eta1 and np.linalg.norm(grad_x_mas) <= F):\n",
    "            x_k = x_mas\n",
    "            F = np.linalg.norm(grad_x_mas)\n",
    "    return x_k"
   ]
  },
  {
   "cell_type": "code",
   "execution_count": 8,
   "id": "93dac06d",
   "metadata": {},
   "outputs": [
    {
     "name": "stdout",
     "output_type": "stream",
     "text": [
      "0\n",
      "1\n",
      "2\n",
      "3\n",
      "4\n",
      "5\n",
      "6\n",
      "7\n",
      "8\n",
      "9\n",
      "10\n",
      "11\n",
      "12\n",
      "13\n",
      "14\n",
      "15\n",
      "16\n",
      "17\n",
      "18\n",
      "19\n",
      "20\n",
      "21\n",
      "22\n",
      "23\n",
      "24\n",
      "25\n",
      "26\n",
      "27\n",
      "28\n",
      "29\n"
     ]
    }
   ],
   "source": [
    "n = 4\n",
    "x_k = np.ones(n) + np.random.uniform(-2, 2, n)\n",
    "max_iter = 100\n",
    "alpha = 0.02\n",
    "delta = 2\n",
    "eta = 0.1\n",
    "tol = 0.01\n",
    "h = 0.000001\n",
    "F = 10000\n",
    "res = np.ones(n)\n",
    "mean = np.zeros(30)\n",
    "\n",
    "for i in range(30):\n",
    "    print(i)\n",
    "    x_k = np.ones(n) + np.random.uniform(-2, 2, n)\n",
    "    x = rtr(x_k, wood, h, max_iter, F)\n",
    "    mean[i] = (x[0]-res).mean()"
   ]
  },
  {
   "cell_type": "code",
   "execution_count": 9,
   "id": "7d751bea",
   "metadata": {},
   "outputs": [
    {
     "data": {
      "text/plain": [
       "-0.6344308250247256"
      ]
     },
     "execution_count": 9,
     "metadata": {},
     "output_type": "execute_result"
    }
   ],
   "source": [
    "mean.mean()"
   ]
  },
  {
   "cell_type": "markdown",
   "id": "048a88a0",
   "metadata": {},
   "source": [
    "## Función Branin"
   ]
  },
  {
   "cell_type": "code",
   "execution_count": 24,
   "id": "b4b2bb70",
   "metadata": {
    "scrolled": true
   },
   "outputs": [
    {
     "name": "stdout",
     "output_type": "stream",
     "text": [
      "0\n",
      "1\n"
     ]
    },
    {
     "name": "stderr",
     "output_type": "stream",
     "text": [
      "C:\\Users\\zaira\\AppData\\Local\\Temp/ipykernel_10800/1669480683.py:47: RuntimeWarning: overflow encountered in double_scalars\n",
      "  rho = rho_num / rho_dev\n",
      "C:\\Users\\zaira\\AppData\\Local\\Temp/ipykernel_10800/1669480683.py:47: RuntimeWarning: divide by zero encountered in double_scalars\n",
      "  rho = rho_num / rho_dev\n",
      "C:\\Users\\zaira\\AppData\\Local\\Temp/ipykernel_10800/1669480683.py:43: RuntimeWarning: divide by zero encountered in double_scalars\n",
      "  p_k = -1.0*(delta/norm_grad)*g\n",
      "C:\\Users\\zaira\\AppData\\Local\\Temp/ipykernel_10800/1669480683.py:43: RuntimeWarning: invalid value encountered in multiply\n",
      "  p_k = -1.0*(delta/norm_grad)*g\n"
     ]
    },
    {
     "name": "stdout",
     "output_type": "stream",
     "text": [
      "2\n",
      "3\n",
      "4\n",
      "5\n",
      "6\n",
      "7\n",
      "8\n",
      "9\n",
      "10\n",
      "11\n",
      "12\n",
      "13\n",
      "14\n",
      "15\n",
      "16\n",
      "17\n",
      "18\n",
      "19\n",
      "20\n",
      "21\n",
      "22\n",
      "23\n",
      "24\n",
      "25\n",
      "26\n",
      "27\n",
      "28\n",
      "29\n"
     ]
    }
   ],
   "source": [
    "n = 2\n",
    "x_k = np.zeros(n)\n",
    "x_k[0] = np.pi + np.random.uniform(-2, 2)\n",
    "x_k[1] = 2.275 + np.random.uniform(-2, 2)\n",
    "\n",
    "max_iter = 1000\n",
    "alpha = 0.02\n",
    "delta = 2\n",
    "eta = 0.1\n",
    "tol = 0.01\n",
    "h = 0.000001\n",
    "res = np.zeros(n)\n",
    "res[0] = np.pi\n",
    "res[1] = 2.275\n",
    "F = 10000\n",
    "\n",
    "mean = np.zeros(30)\n",
    "\n",
    "for i in range(30):\n",
    "    print(i)\n",
    "    x_k = np.zeros(n)\n",
    "    x_k[0] = np.pi + np.random.uniform(-2, 2)\n",
    "    x_k[1] = 2.275 + np.random.uniform(-2, 2)\n",
    "    \n",
    "    x = rtr(x_k, branin, h, max_iter, F)\n",
    "    mean[i] = (x[0]-res).mean()"
   ]
  },
  {
   "cell_type": "code",
   "execution_count": 25,
   "id": "ff71be1e",
   "metadata": {},
   "outputs": [
    {
     "data": {
      "text/plain": [
       "-12706026290.664791"
      ]
     },
     "execution_count": 25,
     "metadata": {},
     "output_type": "execute_result"
    }
   ],
   "source": [
    "mean.mean()"
   ]
  }
 ],
 "metadata": {
  "kernelspec": {
   "display_name": "Python 3 (ipykernel)",
   "language": "python",
   "name": "python3"
  },
  "language_info": {
   "codemirror_mode": {
    "name": "ipython",
    "version": 3
   },
   "file_extension": ".py",
   "mimetype": "text/x-python",
   "name": "python",
   "nbconvert_exporter": "python",
   "pygments_lexer": "ipython3",
   "version": "3.9.7"
  }
 },
 "nbformat": 4,
 "nbformat_minor": 5
}
