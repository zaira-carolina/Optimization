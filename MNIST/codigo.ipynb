{
 "cells": [
  {
   "cell_type": "code",
   "execution_count": 1,
   "id": "76473900",
   "metadata": {},
   "outputs": [
    {
     "name": "stdout",
     "output_type": "stream",
     "text": [
      "(50000, 784) (50000,)\n",
      "(10000, 784) (10000,)\n",
      "(10000, 784) (10000,)\n"
     ]
    }
   ],
   "source": [
    "%matplotlib inline\n",
    "\n",
    "import numpy as np\n",
    "import matplotlib.pyplot as plt\n",
    "\n",
    "import gzip, pickle\n",
    "with gzip.open('mnist.pkl.gz','rb') as ff :\n",
    "    u = pickle._Unpickler( ff )\n",
    "    u.encoding = 'latin1'\n",
    "    train, val, test = u.load()\n",
    "\n",
    "\n",
    "print( train[0].shape, train[1].shape )\n",
    "print( val[0].shape, val[1].shape )\n",
    "print( test[0].shape, test[1].shape )"
   ]
  },
  {
   "cell_type": "code",
   "execution_count": 2,
   "id": "5439f904",
   "metadata": {},
   "outputs": [
    {
     "data": {
      "image/png": "[encoded data removed]",
      "text/plain": [
       "<Figure size 1440x288 with 5 Axes>"
      ]
     },
     "metadata": {
      "needs_background": "light"
     },
     "output_type": "display_data"
    }
   ],
   "source": [
    "X = train[0]\n",
    "y = train[1]\n",
    "plt.figure(figsize=(20,4))\n",
    "for index, (image, label) in enumerate(zip(X[0:5], y[0:5])):\n",
    "    plt.subplot(1, 5, index + 1)\n",
    "    plt.imshow(np.reshape(image, (28,28)), cmap=plt.cm.gray)\n",
    "    plt.title('Number: %i\\n' % label, fontsize = 20)\n",
    "    plt.axis('off')"
   ]
  },
  {
   "cell_type": "code",
   "execution_count": null,
   "id": "172f0037",
   "metadata": {},
   "outputs": [],
   "source": []
  },
  {
   "cell_type": "markdown",
   "id": "d678ea04",
   "metadata": {},
   "source": [
    "# Gradiente descendente"
   ]
  },
  {
   "cell_type": "code",
   "execution_count": 3,
   "id": "0496d962",
   "metadata": {},
   "outputs": [
    {
     "data": {
      "text/plain": [
       "((5000, 784), (5000,))"
      ]
     },
     "execution_count": 3,
     "metadata": {},
     "output_type": "execute_result"
    }
   ],
   "source": [
    "#Utilizar menos datos porque sino al hacer las multiplicaciones para el Hessiano, no lo soporta la memoria\n",
    "from sklearn.model_selection import train_test_split\n",
    "x_train, x_test, y_train, y_test = train_test_split(X,y, test_size = 0.90, random_state = 0)\n",
    "\n",
    "y_train = (y_train!=0)*1\n",
    "x_train.shape, y_train.shape"
   ]
  },
  {
   "cell_type": "code",
   "execution_count": null,
   "id": "23237100",
   "metadata": {},
   "outputs": [],
   "source": []
  },
  {
   "cell_type": "code",
   "execution_count": 4,
   "id": "2691a4e3",
   "metadata": {},
   "outputs": [],
   "source": [
    "def sigmoid(z):\n",
    "    return 1.0 / (1 + np.exp(-z))\n",
    "\n",
    "def h(X, y, theta, theta0):\n",
    "    z = np.dot(X, theta)+theta0\n",
    "    phi = sigmoid(z)\n",
    "    return (y*np.log(phi)+(1-y)*np.log(1-phi))\n",
    "    \n",
    "\n",
    "def gradientDescent(X, y, theta, theta0, alpha):\n",
    "    y = y.reshape([-1, 1]) \n",
    "    z = np.dot(X, theta)+theta0\n",
    "    phi = sigmoid(z)\n",
    "    gradient = np.dot(X.T, (y-phi))\n",
    "    gradient_theta0 = sum(y-phi)\n",
    "    \n",
    "    theta -= alpha*gradient\n",
    "    theta0 -= alpha*gradient_theta0\n",
    "    \n",
    "    return theta, theta0"
   ]
  },
  {
   "cell_type": "code",
   "execution_count": 5,
   "id": "6f27a17f",
   "metadata": {},
   "outputs": [
    {
     "name": "stdout",
     "output_type": "stream",
     "text": [
      "0.00031792652973581533 [3.00002749]\n",
      "0.0006360069031539911 [3.000055]\n",
      "0.0009542409959338668 [3.00008255]\n",
      "0.0012726286834961948 [3.00011013]\n",
      "0.00159116984100443 [3.00013773]\n",
      "0.001909864343366015 [3.00016537]\n",
      "0.0022287120652336643 [3.00019303]\n",
      "0.0025477128810066523 [3.00022073]\n",
      "0.0028668666648320957 [3.00024845]\n",
      "0.00318617329060624 [3.0002762]\n",
      "0.003505632631975746 [3.00030398]\n",
      "0.003825244562338971 [3.0003318]\n",
      "0.00414500895484726 [3.00035964]\n",
      "0.004464925682406222 [3.00038751]\n",
      "0.004784994617677023 [3.00041541]\n",
      "0.0051052156330776656 [3.00044334]\n",
      "0.005425588600784273 [3.0004713]\n",
      "0.005746113392732377 [3.00049929]\n",
      "0.006066789880618195 [3.0005273]\n",
      "0.006387617935899921 [3.00055535]\n",
      "0.006708597429799004 [3.00058343]\n",
      "0.00702972823330143 [3.00061153]\n",
      "0.007351010217159008 [3.00063967]\n",
      "0.00767244325189065 [3.00066783]\n",
      "0.00799402720778365 [3.00069602]\n",
      "0.008315761954894972 [3.00072425]\n",
      "0.008637647363052526 [3.0007525]\n",
      "0.008959683301856446 [3.00078078]\n",
      "0.009281869640680373 [3.00080909]\n",
      "0.00960420624867274 [3.00083743]\n",
      "0.009926692994758035 [3.00086579]\n",
      "0.010249329747638097 [3.00089419]\n",
      "0.010572116375793384 [3.00092262]\n",
      "0.010895052747484247 [3.00095107]\n",
      "0.011218138730752216 [3.00097956]\n",
      "0.011541374193421269 [3.00100807]\n",
      "0.011864759003099107 [3.00103661]\n",
      "0.01218829302717843 [3.00106518]\n",
      "0.012511976132838219 [3.00109378]\n",
      "0.012835808187044988 [3.00112241]\n",
      "0.013159789056554077 [3.00115107]\n",
      "0.013483918607910917 [3.00117975]\n",
      "0.013808196707452295 [3.00120847]\n",
      "0.014132623221307627 [3.00123721]\n",
      "0.014457198015400234 [3.00126599]\n",
      "0.014781920955448596 [3.00129479]\n",
      "0.015106791906967636 [3.00132362]\n",
      "0.015431810735269972 [3.00135248]\n",
      "0.015756977305467195 [3.00138136]\n",
      "0.01608229148247112 [3.00141028]\n",
      "0.01640775313099506 [3.00143923]\n",
      "0.016733362115555088 [3.0014682]\n",
      "0.017059118300471292 [3.0014972]\n",
      "0.01738502154986904 [3.00152623]\n",
      "0.017711071727680248 [3.00155529]\n",
      "0.018037268697644618 [3.00158438]\n",
      "0.018363612323310914 [3.0016135]\n",
      "0.01869010246803822 [3.00164264]\n",
      "0.019016738994997163 [3.00167182]\n",
      "0.01934352176717122 [3.00170102]\n",
      "0.019670450647357937 [3.00173025]\n",
      "0.019997525498170167 [3.00175951]\n",
      "0.020324746182037362 [3.0017888]\n",
      "0.020652112561206797 [3.00181812]\n",
      "0.020979624497744816 [3.00184746]\n",
      "0.02130728185353809 [3.00187683]\n",
      "0.021635084490294863 [3.00190623]\n",
      "0.02196303226954618 [3.00193566]\n",
      "0.02229112505264716 [3.00196512]\n",
      "0.02261936270077821 [3.00199461]\n",
      "0.022947745074946277 [3.00202412]\n",
      "0.02327627203598608 [3.00205367]\n",
      "0.023604943444561367 [3.00208324]\n",
      "0.02393375916116615 [3.00211284]\n",
      "0.024262719046125893 [3.00214246]\n",
      "0.024591822959598816 [3.00217212]\n",
      "0.024921070761577083 [3.0022018]\n",
      "0.02525046231188804 [3.00223151]\n",
      "0.025579997470195456 [3.00226125]\n",
      "0.025909676096000738 [3.00229102]\n",
      "0.026239498048644165 [3.00232082]\n",
      "0.026569463187306113 [3.00235064]\n",
      "0.02689957137100828 [3.00238049]\n",
      "0.027229822458614893 [3.00241037]\n",
      "0.027560216308833946 [3.00244028]\n",
      "0.027890752780218422 [3.00247022]\n",
      "0.028221431731167493 [3.00250018]\n",
      "0.02855225301992774 [3.00253017]\n",
      "0.02888321650459438 [3.00256019]\n",
      "0.029214322043112466 [3.00259024]\n",
      "0.029545569493278103 [3.00262031]\n",
      "0.029876958712739647 [3.00265042]\n",
      "0.030208489558998936 [3.00268055]\n",
      "0.03054016188941247 [3.0027107]\n",
      "0.030871975561192623 [3.00274089]\n",
      "0.031203930431408865 [3.0027711]\n",
      "0.03153602635698892 [3.00280135]\n",
      "0.031868263194720005 [3.00283162]\n",
      "0.03220064080125002 [3.00286191]\n",
      "0.032533159033088725 [3.00289224]\n"
     ]
    }
   ],
   "source": [
    "#Inicializar las variables\n",
    "theta = np.zeros([x_train.shape[1], 1])\n",
    "theta0 = 3\n",
    "\n",
    "theta_norm = []\n",
    "for i in range(100):\n",
    "    theta, theta0 = gradientDescent(x_train, y_train, theta, theta0, 0.0000001)\n",
    "    theta_norm.append(np.linalg.norm(theta))\n",
    "    print(np.linalg.norm(theta), theta0)"
   ]
  },
  {
   "cell_type": "code",
   "execution_count": null,
   "id": "233ca0ee",
   "metadata": {},
   "outputs": [],
   "source": []
  },
  {
   "cell_type": "code",
   "execution_count": 6,
   "id": "d6c5e3d8",
   "metadata": {},
   "outputs": [
    {
     "data": {
      "text/plain": [
       "((5000, 784), (5000,))"
      ]
     },
     "execution_count": 6,
     "metadata": {},
     "output_type": "execute_result"
    }
   ],
   "source": [
    "x_test = test[0][:5000, :]\n",
    "y_test = test[1][:5000]\n",
    "x_test.shape, y_test.shape"
   ]
  },
  {
   "cell_type": "code",
   "execution_count": 7,
   "id": "750b0e4d",
   "metadata": {},
   "outputs": [
    {
     "data": {
      "text/html": [
       "<div>\n",
       "<style scoped>\n",
       "    .dataframe tbody tr th:only-of-type {\n",
       "        vertical-align: middle;\n",
       "    }\n",
       "\n",
       "    .dataframe tbody tr th {\n",
       "        vertical-align: top;\n",
       "    }\n",
       "\n",
       "    .dataframe thead th {\n",
       "        text-align: right;\n",
       "    }\n",
       "</style>\n",
       "<table border=\"1\" class=\"dataframe\">\n",
       "  <thead>\n",
       "    <tr style=\"text-align: right;\">\n",
       "      <th></th>\n",
       "      <th>0</th>\n",
       "    </tr>\n",
       "  </thead>\n",
       "  <tbody>\n",
       "    <tr>\n",
       "      <th>count</th>\n",
       "      <td>5000.000000</td>\n",
       "    </tr>\n",
       "    <tr>\n",
       "      <th>mean</th>\n",
       "      <td>3.691018</td>\n",
       "    </tr>\n",
       "    <tr>\n",
       "      <th>std</th>\n",
       "      <td>2.660056</td>\n",
       "    </tr>\n",
       "    <tr>\n",
       "      <th>min</th>\n",
       "      <td>0.039870</td>\n",
       "    </tr>\n",
       "    <tr>\n",
       "      <th>25%</th>\n",
       "      <td>1.041809</td>\n",
       "    </tr>\n",
       "    <tr>\n",
       "      <th>50%</th>\n",
       "      <td>3.044717</td>\n",
       "    </tr>\n",
       "    <tr>\n",
       "      <th>75%</th>\n",
       "      <td>6.043642</td>\n",
       "    </tr>\n",
       "    <tr>\n",
       "      <th>max</th>\n",
       "      <td>8.045831</td>\n",
       "    </tr>\n",
       "  </tbody>\n",
       "</table>\n",
       "</div>"
      ],
      "text/plain": [
       "                 0\n",
       "count  5000.000000\n",
       "mean      3.691018\n",
       "std       2.660056\n",
       "min       0.039870\n",
       "25%       1.041809\n",
       "50%       3.044717\n",
       "75%       6.043642\n",
       "max       8.045831"
      ]
     },
     "execution_count": 7,
     "metadata": {},
     "output_type": "execute_result"
    }
   ],
   "source": [
    "import pandas as pd\n",
    "\n",
    "#Error gradiente descendente\n",
    "error = np.zeros(len(y))\n",
    "z = np.dot(x_test, theta)+theta0\n",
    "phi = sigmoid(z)\n",
    "y_test = y_test.reshape([-1,1])\n",
    "error = abs(phi-y_test)\n",
    "df = pd.DataFrame(error)\n",
    "df.describe()\n",
    "\n",
    "#error.mean()"
   ]
  },
  {
   "cell_type": "markdown",
   "id": "e0375207",
   "metadata": {},
   "source": [
    "# Newton Modificado"
   ]
  },
  {
   "cell_type": "code",
   "execution_count": 8,
   "id": "984fcc4f",
   "metadata": {},
   "outputs": [],
   "source": [
    "#newton-rhapson\n",
    "def newton(X, y, theta, theta0):\n",
    "    z = np.dot(X, theta)+theta0\n",
    "    phi = sigmoid(z)\n",
    "    W = np.diag(phi*(1-phi))\n",
    "    hessian = X.T.dot(W).dot(X)\n",
    "    norm_hessian = np.linalg.norm(hessian)\n",
    "    \n",
    "    add = np.zeros([hessian.shape[0], hessian.shape[1]])\n",
    "    for i in range(hessian.shape[0]):\n",
    "        add[i][i] = norm_hessian\n",
    "    \n",
    "    hessian += add \n",
    "    gradient = np.dot(X.T, (y-phi))      \n",
    "    step = np.dot(np.linalg.inv(hessian), gradient)        \n",
    "    theta += step    \n",
    "    \n",
    "    hessian_theta0 = W.sum()\n",
    "    grad_theta0 = sum(y-phi)\n",
    "    \n",
    "    step_theta0 = (1/hessian_theta0)*grad_theta0\n",
    "    theta0 += step_theta0\n",
    "    \n",
    "    return theta, theta0"
   ]
  },
  {
   "cell_type": "code",
   "execution_count": 9,
   "id": "3da108ec",
   "metadata": {},
   "outputs": [
    {
     "name": "stdout",
     "output_type": "stream",
     "text": [
      "0.12574339616620406 1.5904\n",
      "0.20012767501575912 1.4894164869327093\n",
      "0.27740798131896394 1.6776697905154776\n",
      "0.35241925146093245 1.7148992957160865\n",
      "0.4167166050637232 1.8140377838658974\n",
      "0.4759455465634363 1.8783141716548062\n",
      "0.5299819221567356 1.9521986012575223\n",
      "0.5803834542063285 2.0165245834296837\n",
      "0.6276164666252574 2.080143223069357\n",
      "0.6722676203035284 2.139602017446603\n",
      "0.7146726083854322 2.1967438919971025\n",
      "0.7551309685168797 2.2510692323462473\n",
      "0.7938619220997573 2.3030580427747807\n",
      "0.8310505846419293 2.3527337703213145\n",
      "0.8668471750252735 2.4002935794071156\n",
      "0.9013799004263231 2.445837599415065\n",
      "0.9347581219154406 2.4894907692091692\n",
      "0.9670771190599904 2.5313520120690765\n",
      "0.998420444238419 2.571518767535688\n",
      "1.028862155219938 2.610077892471046\n"
     ]
    }
   ],
   "source": [
    "theta = np.zeros([x_train.shape[1]])\n",
    "theta0 = 0.0\n",
    "\n",
    "theta_norm_newton = []\n",
    "for i in range(20):\n",
    "    theta, theta0 = newton(x_train, y_train, theta, theta0)\n",
    "    print(np.linalg.norm(theta), theta0)\n",
    "    theta_norm_newton.append(np.linalg.norm(theta))"
   ]
  },
  {
   "cell_type": "code",
   "execution_count": null,
   "id": "02453b8d",
   "metadata": {},
   "outputs": [],
   "source": [
    "df_n = pd.DataFrame(theta_norm_newton)\n",
    "df_n.describe()"
   ]
  },
  {
   "cell_type": "code",
   "execution_count": 12,
   "id": "48b0454f",
   "metadata": {},
   "outputs": [
    {
     "data": {
      "text/plain": [
       "count    5000.000000\n",
       "mean        3.729799\n",
       "std         0.158507\n",
       "min         3.656641\n",
       "25%         3.663343\n",
       "50%         3.671160\n",
       "75%         3.699118\n",
       "max         4.449659\n",
       "dtype: float64"
      ]
     },
     "execution_count": 12,
     "metadata": {},
     "output_type": "execute_result"
    }
   ],
   "source": [
    "#Error newton\n",
    "error = np.zeros(len(y))\n",
    "z = np.dot(x_test, theta)+theta0\n",
    "phi = sigmoid(z)\n",
    "y_test = y_test.reshape([-1,1])\n",
    "error = abs(phi-y_test)\n",
    "\n",
    "df_newton = pd.DataFrame(error)\n",
    "df_newton.mean().describe()\n",
    "#error.mean()"
   ]
  }
 ],
 "metadata": {
  "kernelspec": {
   "display_name": "Python 3 (ipykernel)",
   "language": "python",
   "name": "python3"
  },
  "language_info": {
   "codemirror_mode": {
    "name": "ipython",
    "version": 3
   },
   "file_extension": ".py",
   "mimetype": "text/x-python",
   "name": "python",
   "nbconvert_exporter": "python",
   "pygments_lexer": "ipython3",
   "version": "3.9.7"
  }
 },
 "nbformat": 4,
 "nbformat_minor": 5
}
